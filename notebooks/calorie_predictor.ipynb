{
 "cells": [
  {
   "cell_type": "markdown",
   "id": "0",
   "metadata": {},
   "source": [
    "# Calorie Predictor"
   ]
  },
  {
   "cell_type": "code",
   "execution_count": 6,
   "id": "1",
   "metadata": {},
   "outputs": [],
   "source": [
    "import pandas as pd\n",
    "import numpy as np\n",
    "import matplotlib.pyplot as plt\n",
    "import seaborn as sns"
   ]
  },
  {
   "cell_type": "code",
   "execution_count": 7,
   "id": "2",
   "metadata": {},
   "outputs": [],
   "source": [
    "df = pd.read_csv('../data/raw_data.csv')"
   ]
  },
  {
   "cell_type": "markdown",
   "id": "3",
   "metadata": {},
   "source": [
    "## Preprocessing"
   ]
  },
  {
   "cell_type": "code",
   "execution_count": 8,
   "id": "0a7dbd79",
   "metadata": {},
   "outputs": [],
   "source": [
    "from sklearn.compose import ColumnTransformer\n",
    "from sklearn.preprocessing import OneHotEncoder, OrdinalEncoder, FunctionTransformer"
   ]
  },
  {
   "cell_type": "code",
   "execution_count": 22,
   "id": "07fde575",
   "metadata": {},
   "outputs": [],
   "source": [
    "def featureEngineering(df):\n",
    "    df = df.copy()\n",
    "    df[\"BMR\"] = np.where(\n",
    "        df[\"gender\"] == \"Male\",\n",
    "        10 * df[\"weight\"] + 6.25 * (df[\"height\"] * 100) - 5 * df[\"age\"] + 5,\n",
    "        10 * df[\"weight\"] + 6.25 * (df[\"height\"] * 100) - 5 * df[\"age\"] - 161\n",
    "    )\n",
    "    df[\"weight_duration\"] = df[\"weight\"] * df[\"session_duration\"]\n",
    "    df[\"bmi_duration\"] = df[\"bmi\"] * df[\"session_duration\"]\n",
    "    df[\"workout_intensity\"] = df[\"experience_level\"] * df[\"workout_frequency\"]\n",
    "    df[\"fat_category\"] = pd.cut(\n",
    "        df[\"fat_percentage\"],\n",
    "        bins=[0, 15, 25, 35, 100],\n",
    "        labels=[\"Low\", \"Moderate\", \"High\", \"Very High\"]\n",
    "    )\n",
    "    return df\n"
   ]
  },
  {
   "cell_type": "code",
   "execution_count": 25,
   "id": "1db95679",
   "metadata": {},
   "outputs": [],
   "source": [
    "#renaming the attributes\n",
    "df = df.rename(columns={\n",
    "    \"Age\": \"age\",\n",
    "    \"Gender\": \"gender\",\n",
    "    \"Weight (kg)\": \"weight\",\n",
    "    \"Height (m)\": \"height\",\n",
    "    \"Workout_Type\": \"workout_type\",\n",
    "    \"Fat_Percentage\": \"fat_percentage\",\n",
    "    \"Experience_Level\": \"experience_level\",\n",
    "    \"BMI\": \"bmi\",\n",
    "    \"Workout_Intensity\": \"intensity_level\",\n",
    "    \"Session_Duration (hours)\": \"session_duration\",\n",
    "    \"Workout_Frequency (days/week)\" : \"workout_frequency\"\n",
    "})"
   ]
  },
  {
   "cell_type": "code",
   "execution_count": 26,
   "id": "cef4cc12",
   "metadata": {},
   "outputs": [
    {
     "data": {
      "text/plain": [
       "age                        int64\n",
       "gender                    object\n",
       "weight                   float64\n",
       "height                   float64\n",
       "Max_BPM                    int64\n",
       "Avg_BPM                    int64\n",
       "Resting_BPM                int64\n",
       "session_duration         float64\n",
       "Calories_Burned          float64\n",
       "workout_type              object\n",
       "fat_percentage           float64\n",
       "Water_Intake (liters)    float64\n",
       "workout_frequency          int64\n",
       "experience_level           int64\n",
       "bmi                      float64\n",
       "dtype: object"
      ]
     },
     "execution_count": 26,
     "metadata": {},
     "output_type": "execute_result"
    }
   ],
   "source": [
    "df.dtypes"
   ]
  },
  {
   "cell_type": "code",
   "execution_count": 27,
   "id": "7a684b0c",
   "metadata": {},
   "outputs": [],
   "source": [
    "df = featureEngineering(df)"
   ]
  },
  {
   "cell_type": "code",
   "execution_count": 33,
   "id": "3659437d",
   "metadata": {},
   "outputs": [],
   "source": [
    "feature_eng_pipe = FunctionTransformer(featureEngineering, validate=False)"
   ]
  },
  {
   "cell_type": "code",
   "execution_count": 29,
   "id": "6",
   "metadata": {},
   "outputs": [],
   "source": [
    "encoding_ct = ColumnTransformer(\n",
    "    transformers=[\n",
    "        ('onehot', OneHotEncoder(sparse_output=False), ['gender', 'workout_type' ]),\n",
    "        ('ordinal', OrdinalEncoder(), ['fat_category'])\n",
    "    ], remainder='passthrough'\n",
    ")\n"
   ]
  },
  {
   "cell_type": "markdown",
   "id": "7",
   "metadata": {},
   "source": [
    "## Modelling"
   ]
  },
  {
   "cell_type": "code",
   "execution_count": 30,
   "id": "8",
   "metadata": {},
   "outputs": [],
   "source": [
    "from sklearn.model_selection import train_test_split\n",
    "from sklearn.ensemble import RandomForestRegressor\n",
    "from sklearn.pipeline import Pipeline\n",
    "from sklearn.metrics import r2_score, mean_squared_error, mean_absolute_error\n",
    "from sklearn.model_selection import GridSearchCV"
   ]
  },
  {
   "cell_type": "code",
   "execution_count": 31,
   "id": "9",
   "metadata": {},
   "outputs": [],
   "source": [
    "X= df.drop(columns=['Calories_Burned', 'Max_BPM', 'Avg_BPM', 'Resting_BPM', 'Water_Intake (liters)'])\n",
    "y = df['Calories_Burned']\n",
    "X_train, X_test, y_train, y_test = train_test_split(\n",
    "    X, y, test_size=0.3, random_state=42\n",
    ")"
   ]
  },
  {
   "cell_type": "code",
   "execution_count": 40,
   "id": "c90adfac",
   "metadata": {},
   "outputs": [
    {
     "data": {
      "text/plain": [
       "age                     int64\n",
       "gender                 object\n",
       "weight                float64\n",
       "height                float64\n",
       "session_duration      float64\n",
       "workout_type           object\n",
       "fat_percentage        float64\n",
       "workout_frequency       int64\n",
       "experience_level        int64\n",
       "bmi                   float64\n",
       "BMR                   float64\n",
       "weight_duration       float64\n",
       "bmi_duration          float64\n",
       "workout_intensity       int64\n",
       "fat_category         category\n",
       "dtype: object"
      ]
     },
     "execution_count": 40,
     "metadata": {},
     "output_type": "execute_result"
    }
   ],
   "source": [
    "X.dtypes"
   ]
  },
  {
   "cell_type": "code",
   "execution_count": 34,
   "id": "10",
   "metadata": {},
   "outputs": [],
   "source": [
    "pipeline = Pipeline(steps=[\n",
    "    ('feature_engineering', feature_eng_pipe),\n",
    "    ('preprocessor', encoding_ct),\n",
    "    ('model', RandomForestRegressor())\n",
    "])"
   ]
  },
  {
   "cell_type": "code",
   "execution_count": 35,
   "id": "11",
   "metadata": {},
   "outputs": [
    {
     "name": "stdout",
     "output_type": "stream",
     "text": [
      "Best params: {'model__max_depth': 20, 'model__max_features': 'sqrt', 'model__min_samples_leaf': 1, 'model__min_samples_split': 2, 'model__n_estimators': 100}\n",
      "Best CV R2: 0.8427794468819535\n"
     ]
    }
   ],
   "source": [
    "param_grid = {\n",
    "    'model__n_estimators': [100, 300, 500],\n",
    "    'model__max_depth': [None, 10, 20],\n",
    "    'model__min_samples_split': [2, 5, 10],\n",
    "    'model__min_samples_leaf': [1, 2, 4],\n",
    "    'model__max_features': ['sqrt', 'log2']\n",
    "}\n",
    "\n",
    "grid = GridSearchCV(pipeline, param_grid, cv=5, scoring='r2', n_jobs=-1)\n",
    "grid.fit(X_train, y_train)\n",
    "\n",
    "print(\"Best params:\", grid.best_params_)\n",
    "print(\"Best CV R2:\", grid.best_score_)# Cross Validation\n"
   ]
  },
  {
   "cell_type": "markdown",
   "id": "12",
   "metadata": {},
   "source": [
    "## Evaluation"
   ]
  },
  {
   "cell_type": "code",
   "execution_count": 36,
   "id": "13",
   "metadata": {},
   "outputs": [
    {
     "name": "stdout",
     "output_type": "stream",
     "text": [
      "R2 Score: 0.8505551855769766\n",
      "MSE: 11890.70736243491\n",
      "MAE: 87.8316000761035\n"
     ]
    }
   ],
   "source": [
    "y_pred = grid.predict(X_test)\n",
    "print(\"R2 Score:\", r2_score(y_test, y_pred))\n",
    "print(\"MSE:\", mean_squared_error(y_test, y_pred))\n",
    "print(\"MAE:\", mean_absolute_error(y_test, y_pred))"
   ]
  },
  {
   "cell_type": "markdown",
   "id": "14",
   "metadata": {},
   "source": [
    "## Deployment"
   ]
  },
  {
   "cell_type": "code",
   "execution_count": 38,
   "id": "15",
   "metadata": {},
   "outputs": [
    {
     "data": {
      "text/plain": [
       "['../ml_models/calorie_predictor_model.pkl']"
      ]
     },
     "execution_count": 38,
     "metadata": {},
     "output_type": "execute_result"
    }
   ],
   "source": [
    "import joblib\n",
    "best_model = grid.best_estimator_\n",
    "joblib.dump(best_model, '../ml_models/calorie_predictor_model.pkl')"
   ]
  },
  {
   "cell_type": "code",
   "execution_count": null,
   "id": "73b9829c",
   "metadata": {},
   "outputs": [],
   "source": []
  }
 ],
 "metadata": {
  "kernelspec": {
   "display_name": "env",
   "language": "python",
   "name": "python3"
  },
  "language_info": {
   "codemirror_mode": {
    "name": "ipython",
    "version": 3
   },
   "file_extension": ".py",
   "mimetype": "text/x-python",
   "name": "python",
   "nbconvert_exporter": "python",
   "pygments_lexer": "ipython3",
   "version": "3.13.5"
  }
 },
 "nbformat": 4,
 "nbformat_minor": 5
}
